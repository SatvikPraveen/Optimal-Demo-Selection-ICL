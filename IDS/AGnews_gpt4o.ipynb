{
 "cells": [
  {
   "cell_type": "code",
   "execution_count": 1,
   "id": "6d06c741-3368-41de-9a97-30b593a29018",
   "metadata": {},
   "outputs": [],
   "source": [
    "import pandas as pd\n",
    "import numpy as np\n",
    "from tqdm import tqdm"
   ]
  },
  {
   "cell_type": "code",
   "execution_count": 2,
   "id": "69c2e7cd",
   "metadata": {},
   "outputs": [],
   "source": [
    "splits = {'train': 'data/train-00000-of-00001.parquet', 'test': 'data/test-00000-of-00001.parquet'}\n",
    "# df_train = pd.read_parquet(\"hf://datasets/wangrongsheng/ag_news/\" + splits[\"train\"])\n",
    "df_test = pd.read_parquet(\"hf://datasets/wangrongsheng/ag_news/\" + splits[\"test\"])"
   ]
  },
  {
   "cell_type": "code",
   "execution_count": 3,
   "id": "5ced8a82-64c7-4826-9067-4edbbd8dc71d",
   "metadata": {},
   "outputs": [
    {
     "data": {
      "text/plain": [
       "(7600, 2)"
      ]
     },
     "execution_count": 3,
     "metadata": {},
     "output_type": "execute_result"
    }
   ],
   "source": [
    "df_test.shape"
   ]
  },
  {
   "cell_type": "code",
   "execution_count": 4,
   "id": "7db9e67e-558e-4353-9433-36265af09a9e",
   "metadata": {},
   "outputs": [],
   "source": [
    "# df_train_5000 = df_train.sample(n=5000, random_state=42).reset_index(drop=True)\n",
    "# df_train_5000['uid'] = df_train_5000.index\n",
    "df_test_1000 = df_test.sample(n=1000, random_state=42)"
   ]
  },
  {
   "cell_type": "code",
   "execution_count": 5,
   "id": "331775f8-a70b-4121-962a-3b3472f85336",
   "metadata": {},
   "outputs": [],
   "source": [
    "label_dict = {0: \"World\", 1: \"Sports\", 2: \"Business\", 3: \"Technology\"}"
   ]
  },
  {
   "cell_type": "code",
   "execution_count": 7,
   "id": "9712266b-10f3-43bd-94f8-aecf2ccae5f4",
   "metadata": {},
   "outputs": [
    {
     "name": "stdout",
     "output_type": "stream",
     "text": [
      "Fan v Fan: Manchester City-Tottenham Hotspur This weekend Manchester City entertain Spurs, and with last seasons seven-goal FA Cup epic between the two teams still fresh in the memory, entertain could be the operative word.\n",
      "1\n"
     ]
    }
   ],
   "source": [
    "print(df_test_1000.iloc[0]['text'])\n",
    "print(df_test_1000.iloc[0]['label'])"
   ]
  },
  {
   "cell_type": "code",
   "execution_count": 8,
   "id": "61b45aaa-6024-40b0-ac40-78a008c47d23",
   "metadata": {},
   "outputs": [],
   "source": [
    "from sentence_transformers import SentenceTransformer\n",
    "\n",
    "def encode_text(text):\n",
    "    model = SentenceTransformer('all-MiniLM-L6-v2')\n",
    "    return model.encode(text)"
   ]
  },
  {
   "cell_type": "code",
   "execution_count": 9,
   "id": "d57ddcc8-149c-41f3-8e01-7a7a98d272a2",
   "metadata": {},
   "outputs": [],
   "source": [
    "from sklearn.metrics.pairwise import cosine_similarity\n",
    "\n",
    "def select_top_k(query_embedding, candidate_embeddings, k):\n",
    "    similarities = cosine_similarity([query_embedding], candidate_embeddings)[0]\n",
    "    top_k_indices = np.argsort(similarities)[-k:][::-1]\n",
    "    return top_k_indices"
   ]
  },
  {
   "cell_type": "code",
   "execution_count": null,
   "id": "ad18d141-025d-4be9-aecf-2d50bc4a6ae0",
   "metadata": {},
   "outputs": [],
   "source": [
    "# from openai import OpenAI\n",
    "# client = OpenAI(api_key=\"your_apikey\")\n",
    "\n",
    "def zero_shot_cot_gpt_4_o(input_):\n",
    "    completion = client.chat.completions.create(\n",
    "      model=\"gpt-4o-mini\",\n",
    "      messages=[\n",
    "        {\"role\": \"user\", \"content\": \"What is the topic of the input? World, sports, business or technology?\\nThe response should follow the format: Topic:{world, sports, business or technology}\\nReason:{reason}\" + f\"\\nInput: {input_}\" + \"\\nLet's think step by step.\"}\n",
    "      ] \n",
    "    )\n",
    "    return completion.choices[0].message.content\n",
    "\n",
    "def few_shot_cot_gpt_4_o(examples, input_):\n",
    "    completion = client.chat.completions.create(\n",
    "      model=\"gpt-4o-mini\",\n",
    "      messages=[\n",
    "        {\"role\": \"user\", \"content\": \"What is the topic of the input? World, sports, business or technology?\" + f\"\\n{examples}\" +\"\\nThe response should follow the format: Topic:{world, sports, business or technology}\\nReason:{reason}\\nHere is the test data\" + f\"\\nInput: {input_}\" + \"\\nLet's think step by step.\"}\n",
    "      ] \n",
    "    )\n",
    "    return completion.choices[0].message.content"
   ]
  },
  {
   "cell_type": "code",
   "execution_count": 12,
   "id": "b6aef9bf-b422-4608-9b11-17e567673d56",
   "metadata": {},
   "outputs": [
    {
     "name": "stdout",
     "output_type": "stream",
     "text": [
      "Topic:sports  \n",
      "Reason:The input discusses a specific match between two football teams, Manchester City and Tottenham Hotspur, which is clearly related to sports.\n"
     ]
    }
   ],
   "source": [
    "ans = zero_shot_cot_gpt_4_o(df_test_1000.iloc[0]['text'])\n",
    "print(ans)"
   ]
  },
  {
   "cell_type": "code",
   "execution_count": 14,
   "id": "990189fd-e124-4de5-8882-102124e379d6",
   "metadata": {
    "scrolled": true
   },
   "outputs": [],
   "source": [
    "# tqdm.pandas()\n",
    "# df_train_5000['embedding'] = df_train_5000['text'].progress_apply(encode_text)"
   ]
  },
  {
   "cell_type": "code",
   "execution_count": 15,
   "id": "989de6c3-648c-4387-98d6-904249c2a81b",
   "metadata": {},
   "outputs": [],
   "source": [
    "# df_train_5000.to_pickle(\"train_5000_with_embeddings.pkl\")"
   ]
  },
  {
   "cell_type": "code",
   "execution_count": 13,
   "id": "855973ef-3959-43dd-b489-efe8398c5f0e",
   "metadata": {},
   "outputs": [],
   "source": [
    "df_train_5000_with_embeddings = pd.read_pickle(\"train_5000_with_embeddings.pkl\")"
   ]
  },
  {
   "cell_type": "code",
   "execution_count": 16,
   "id": "bc4667d8-2357-4003-bac5-39749d8704e1",
   "metadata": {},
   "outputs": [],
   "source": [
    "from collections import Counter\n",
    "\n",
    "def iterative_demonstration_selection(test_sample, train_samples, k=4, q=2):\n",
    "\n",
    "    label_dict = {0: \"World\", 1: \"Sports\", 2: \"Business\", 3: \"Technology\"}\n",
    "    train_embeddings = np.stack(train_samples['embedding'].to_numpy())\n",
    "    all_answers = []\n",
    "    reasoning_path = zero_shot_cot_gpt_4_o(test_sample)\n",
    "\n",
    "    for _ in range(q):\n",
    "        query_embedding = encode_text(reasoning_path)\n",
    "        selected_indices = select_top_k(query_embedding, train_embeddings, k)\n",
    "        demonstrations = [train_samples.iloc[i] for i in selected_indices]\n",
    "\n",
    "        examples_prompt = \"\\n\".join(\n",
    "            [f\"Input: {row['text']}\\nTopic: {label_dict[row['label']]}\" for row in demonstrations]\n",
    "        )\n",
    "\n",
    "        result = few_shot_cot_gpt_4_o(examples_prompt, test_sample)\n",
    "\n",
    "        try:\n",
    "            topic_line = next(line for line in result.split('\\n') if line.lower().startswith(\"topic\"))\n",
    "            reason_line = next(line for line in result.split('\\n') if line.lower().startswith(\"reason\"))\n",
    "        except StopIteration:\n",
    "            topic_line = \"Topic: unknown\"\n",
    "            reason_line = \"Reason: unknown\"\n",
    "\n",
    "        reasoning_path = reason_line\n",
    "        answer = topic_line.split(\":\", 1)[-1].strip().lower()\n",
    "        all_answers.append(answer)\n",
    "\n",
    "    final_answer = Counter(all_answers).most_common(1)[0][0]\n",
    "    return final_answer"
   ]
  },
  {
   "cell_type": "code",
   "execution_count": 17,
   "id": "d806b588-a7ba-4fa9-8c16-3562f5d78577",
   "metadata": {},
   "outputs": [],
   "source": [
    "def run_ids_on_test_set(df_test, df_train, k=4, q=3):\n",
    "    predictions = []\n",
    "    reasoning_paths = []\n",
    "\n",
    "    for i, row in tqdm(df_test.iterrows(), total=len(df_test), desc=\"Running IDS on test set\"):\n",
    "        test_text = row['text']\n",
    "        true_label = row['label']\n",
    "        \n",
    "        # Run IDS\n",
    "        try:\n",
    "            final_answer = iterative_demonstration_selection(test_text, df_train, k=k, q=q)\n",
    "        except Exception as e:\n",
    "            final_answer = \"error\"\n",
    "            print(f\"Error on test sample {i}: {e}\")\n",
    "\n",
    "        predictions.append(final_answer)\n",
    "        reasoning_paths.append(test_text)\n",
    "\n",
    "    df_test_result = df_test.copy()\n",
    "    df_test_result['prediction'] = predictions\n",
    "    df_test_result['input'] = reasoning_paths\n",
    "\n",
    "    return df_test_result"
   ]
  },
  {
   "cell_type": "code",
   "execution_count": 21,
   "id": "57d39f87-4543-40da-99d6-1aad0c08fa30",
   "metadata": {},
   "outputs": [],
   "source": [
    "from sklearn.metrics import accuracy_score\n",
    "\n",
    "df_test_result = run_ids_on_test_set(df_test_1000, df_train_5000_with_embeddings, k=4, q=3)"
   ]
  },
  {
   "cell_type": "code",
   "execution_count": 23,
   "id": "0fd22e24-24bf-432b-af7c-469f1eacd195",
   "metadata": {},
   "outputs": [
    {
     "name": "stdout",
     "output_type": "stream",
     "text": [
      "Accuracy: 88.30%\n"
     ]
    }
   ],
   "source": [
    "label_dict = {0: \"World\", 1: \"Sports\", 2: \"Business\", 3: \"Technology\"}\n",
    "df_test_result['label_str'] = df_test_result['label'].map(label_dict).str.lower()\n",
    "accuracy = accuracy_score(df_test_result['label_str'], df_test_result['prediction'])\n",
    "print(f\"Accuracy: {accuracy * 100:.2f}%\")"
   ]
  },
  {
   "cell_type": "code",
   "execution_count": 25,
   "id": "ac6998ac-7b16-401f-b0e1-3a81da922c3c",
   "metadata": {},
   "outputs": [],
   "source": [
    "df_test_result[['input','label_str','prediction']].to_csv(\"agnews_ids_results.csv\", index=False)"
   ]
  },
  {
   "cell_type": "code",
   "execution_count": 24,
   "id": "12d65b38-1beb-4524-b6c1-151a0527814c",
   "metadata": {},
   "outputs": [
    {
     "data": {
      "text/html": [
       "<div>\n",
       "<style scoped>\n",
       "    .dataframe tbody tr th:only-of-type {\n",
       "        vertical-align: middle;\n",
       "    }\n",
       "\n",
       "    .dataframe tbody tr th {\n",
       "        vertical-align: top;\n",
       "    }\n",
       "\n",
       "    .dataframe thead th {\n",
       "        text-align: right;\n",
       "    }\n",
       "</style>\n",
       "<table border=\"1\" class=\"dataframe\">\n",
       "  <thead>\n",
       "    <tr style=\"text-align: right;\">\n",
       "      <th></th>\n",
       "      <th>text</th>\n",
       "      <th>label</th>\n",
       "      <th>prediction</th>\n",
       "      <th>input</th>\n",
       "      <th>label_str</th>\n",
       "    </tr>\n",
       "  </thead>\n",
       "  <tbody>\n",
       "    <tr>\n",
       "      <th>7094</th>\n",
       "      <td>Fan v Fan: Manchester City-Tottenham Hotspur T...</td>\n",
       "      <td>1</td>\n",
       "      <td>sports</td>\n",
       "      <td>Fan v Fan: Manchester City-Tottenham Hotspur T...</td>\n",
       "      <td>sports</td>\n",
       "    </tr>\n",
       "    <tr>\n",
       "      <th>1017</th>\n",
       "      <td>Paris Tourists Search for Key to 'Da Vinci Cod...</td>\n",
       "      <td>0</td>\n",
       "      <td>world</td>\n",
       "      <td>Paris Tourists Search for Key to 'Da Vinci Cod...</td>\n",
       "      <td>world</td>\n",
       "    </tr>\n",
       "    <tr>\n",
       "      <th>2850</th>\n",
       "      <td>Net firms: Don't tax VoIP The Spanish-American...</td>\n",
       "      <td>3</td>\n",
       "      <td>business</td>\n",
       "      <td>Net firms: Don't tax VoIP The Spanish-American...</td>\n",
       "      <td>technology</td>\n",
       "    </tr>\n",
       "    <tr>\n",
       "      <th>1452</th>\n",
       "      <td>Dependent species risk extinction The global e...</td>\n",
       "      <td>3</td>\n",
       "      <td>world</td>\n",
       "      <td>Dependent species risk extinction The global e...</td>\n",
       "      <td>technology</td>\n",
       "    </tr>\n",
       "    <tr>\n",
       "      <th>457</th>\n",
       "      <td>EDS Is Charter Member of Siebel BPO Alliance (...</td>\n",
       "      <td>3</td>\n",
       "      <td>business</td>\n",
       "      <td>EDS Is Charter Member of Siebel BPO Alliance (...</td>\n",
       "      <td>technology</td>\n",
       "    </tr>\n",
       "    <tr>\n",
       "      <th>...</th>\n",
       "      <td>...</td>\n",
       "      <td>...</td>\n",
       "      <td>...</td>\n",
       "      <td>...</td>\n",
       "      <td>...</td>\n",
       "    </tr>\n",
       "    <tr>\n",
       "      <th>4127</th>\n",
       "      <td>Britain Charges Cleric Sought by US for Aiding...</td>\n",
       "      <td>0</td>\n",
       "      <td>world</td>\n",
       "      <td>Britain Charges Cleric Sought by US for Aiding...</td>\n",
       "      <td>world</td>\n",
       "    </tr>\n",
       "    <tr>\n",
       "      <th>4801</th>\n",
       "      <td>Hobbit-sized Humans Called Homo floresiensis D...</td>\n",
       "      <td>3</td>\n",
       "      <td>technology</td>\n",
       "      <td>Hobbit-sized Humans Called Homo floresiensis D...</td>\n",
       "      <td>technology</td>\n",
       "    </tr>\n",
       "    <tr>\n",
       "      <th>4919</th>\n",
       "      <td>Tar Heels beat Miami For the second time this ...</td>\n",
       "      <td>1</td>\n",
       "      <td>sports</td>\n",
       "      <td>Tar Heels beat Miami For the second time this ...</td>\n",
       "      <td>sports</td>\n",
       "    </tr>\n",
       "    <tr>\n",
       "      <th>1721</th>\n",
       "      <td>Microsoft Eyes Video for Business IM Software ...</td>\n",
       "      <td>3</td>\n",
       "      <td>technology</td>\n",
       "      <td>Microsoft Eyes Video for Business IM Software ...</td>\n",
       "      <td>technology</td>\n",
       "    </tr>\n",
       "    <tr>\n",
       "      <th>7210</th>\n",
       "      <td>I.B.M. Sought a China Partnership, Not Just a ...</td>\n",
       "      <td>2</td>\n",
       "      <td>business</td>\n",
       "      <td>I.B.M. Sought a China Partnership, Not Just a ...</td>\n",
       "      <td>business</td>\n",
       "    </tr>\n",
       "  </tbody>\n",
       "</table>\n",
       "<p>1000 rows × 5 columns</p>\n",
       "</div>"
      ],
      "text/plain": [
       "                                                   text  label  prediction  \\\n",
       "7094  Fan v Fan: Manchester City-Tottenham Hotspur T...      1      sports   \n",
       "1017  Paris Tourists Search for Key to 'Da Vinci Cod...      0       world   \n",
       "2850  Net firms: Don't tax VoIP The Spanish-American...      3    business   \n",
       "1452  Dependent species risk extinction The global e...      3       world   \n",
       "457   EDS Is Charter Member of Siebel BPO Alliance (...      3    business   \n",
       "...                                                 ...    ...         ...   \n",
       "4127  Britain Charges Cleric Sought by US for Aiding...      0       world   \n",
       "4801  Hobbit-sized Humans Called Homo floresiensis D...      3  technology   \n",
       "4919  Tar Heels beat Miami For the second time this ...      1      sports   \n",
       "1721  Microsoft Eyes Video for Business IM Software ...      3  technology   \n",
       "7210  I.B.M. Sought a China Partnership, Not Just a ...      2    business   \n",
       "\n",
       "                                                  input   label_str  \n",
       "7094  Fan v Fan: Manchester City-Tottenham Hotspur T...      sports  \n",
       "1017  Paris Tourists Search for Key to 'Da Vinci Cod...       world  \n",
       "2850  Net firms: Don't tax VoIP The Spanish-American...  technology  \n",
       "1452  Dependent species risk extinction The global e...  technology  \n",
       "457   EDS Is Charter Member of Siebel BPO Alliance (...  technology  \n",
       "...                                                 ...         ...  \n",
       "4127  Britain Charges Cleric Sought by US for Aiding...       world  \n",
       "4801  Hobbit-sized Humans Called Homo floresiensis D...  technology  \n",
       "4919  Tar Heels beat Miami For the second time this ...      sports  \n",
       "1721  Microsoft Eyes Video for Business IM Software ...  technology  \n",
       "7210  I.B.M. Sought a China Partnership, Not Just a ...    business  \n",
       "\n",
       "[1000 rows x 5 columns]"
      ]
     },
     "execution_count": 24,
     "metadata": {},
     "output_type": "execute_result"
    }
   ],
   "source": [
    "df_test_result"
   ]
  },
  {
   "cell_type": "code",
   "execution_count": null,
   "id": "ca1e8d0f-4652-4357-b654-de6e17b07461",
   "metadata": {},
   "outputs": [],
   "source": []
  }
 ],
 "metadata": {
  "kernelspec": {
   "display_name": "Python 3 (ipykernel)",
   "language": "python",
   "name": "python3"
  },
  "language_info": {
   "codemirror_mode": {
    "name": "ipython",
    "version": 3
   },
   "file_extension": ".py",
   "mimetype": "text/x-python",
   "name": "python",
   "nbconvert_exporter": "python",
   "pygments_lexer": "ipython3",
   "version": "3.10.8"
  }
 },
 "nbformat": 4,
 "nbformat_minor": 5
}
