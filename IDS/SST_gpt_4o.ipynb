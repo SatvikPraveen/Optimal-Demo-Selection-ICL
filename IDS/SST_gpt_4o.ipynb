{
 "cells": [
  {
   "cell_type": "code",
   "execution_count": 1,
   "id": "14b900dd-8d95-4aaf-af1e-7d0f738d68bc",
   "metadata": {},
   "outputs": [],
   "source": [
    "from datasets import load_dataset\n",
    "import pandas as pd\n",
    "import numpy as np\n",
    "from tqdm import tqdm\n",
    "from transformers import pipeline\n",
    "import torch"
   ]
  },
  {
   "cell_type": "code",
   "execution_count": 2,
   "id": "c3f0cb1e-656b-490e-b42e-821865e52a2c",
   "metadata": {},
   "outputs": [],
   "source": [
    "def load_sst5(split=\"train\", num_samples=5000):\n",
    "    dataset = load_dataset(\"SetFit/sst5\", \"default\", split=split)\n",
    "    dataset = dataset.filter(lambda x: x[\"label_text\"] is not None)\n",
    "    dataset = dataset.shuffle(seed=42).select(range(min(num_samples, len(dataset))))\n",
    "\n",
    "    texts = []\n",
    "    labels = []\n",
    "    for sample in dataset:\n",
    "        text = sample[\"text\"].strip().replace(\"\\n\", \" \")\n",
    "        label_text = sample[\"label_text\"]\n",
    "        full_text = f\"Text: {text}\\nLabel: {label_text}\"\n",
    "        texts.append(full_text)\n",
    "        labels.append(label_text)\n",
    "    return texts, labels"
   ]
  },
  {
   "cell_type": "code",
   "execution_count": 3,
   "id": "16dcafc5-1ea0-4118-a623-0c7263bcb4f8",
   "metadata": {},
   "outputs": [
    {
     "name": "stderr",
     "output_type": "stream",
     "text": [
      "Repo card metadata block was not found. Setting CardData to empty.\n",
      "Repo card metadata block was not found. Setting CardData to empty.\n"
     ]
    }
   ],
   "source": [
    "train_texts, train_labels = load_sst5()\n",
    "test_texts, test_labels = load_sst5(\"test\", 1000)"
   ]
  },
  {
   "cell_type": "code",
   "execution_count": 4,
   "id": "989b60de-5f9e-4460-8afe-b1a0a01816b8",
   "metadata": {},
   "outputs": [],
   "source": [
    "def organize_SST5_into_df(texts, labels):\n",
    "    input_data = []\n",
    "    for each_text in texts:\n",
    "        sentiment_line = next(line for line in each_text.split('\\n') if line.lower().startswith(\"text\"))\n",
    "        input_data.append(sentiment_line.lower().split('text:')[1].strip())\n",
    "    df = pd.DataFrame({\n",
    "        'text': input_data,\n",
    "        'sentiment': labels\n",
    "    })\n",
    "    return df"
   ]
  },
  {
   "cell_type": "code",
   "execution_count": 5,
   "id": "62ad3e48-e889-4f27-81ee-1feb32e69175",
   "metadata": {},
   "outputs": [],
   "source": [
    "df_test_1000 = organize_SST5_into_df(test_texts, test_labels)"
   ]
  },
  {
   "cell_type": "code",
   "execution_count": 6,
   "id": "7bb096ce-1faf-4b4f-8e05-a9ecbf7fb697",
   "metadata": {},
   "outputs": [],
   "source": [
    "from sentence_transformers import SentenceTransformer\n",
    "\n",
    "def encode_text(text):\n",
    "    model = SentenceTransformer('all-MiniLM-L6-v2')\n",
    "    return model.encode(text)\n",
    "\n",
    "from sklearn.metrics.pairwise import cosine_similarity\n",
    "\n",
    "def select_top_k(query_embedding, candidate_embeddings, k):\n",
    "    similarities = cosine_similarity([query_embedding], candidate_embeddings)[0]\n",
    "    top_k_indices = np.argsort(similarities)[-k:][::-1]\n",
    "    return top_k_indices"
   ]
  },
  {
   "cell_type": "code",
   "execution_count": 7,
   "id": "f73ee258-9627-4a53-afe9-91c89026e88e",
   "metadata": {},
   "outputs": [],
   "source": [
    "df_train_5000_with_embeddings = pd.read_pickle(\"train_5000_with_embeddings_SST5.pkl\")"
   ]
  },
  {
   "cell_type": "code",
   "execution_count": null,
   "id": "09c78909-8b34-403a-8f4e-ace27f146c0d",
   "metadata": {},
   "outputs": [],
   "source": [
    "# from openai import OpenAI\n",
    "# client = OpenAI(api_key=\"your_apikey\")\n",
    "\n",
    "def zero_shot_cot_gpt_4_o(input_):\n",
    "    completion = client.chat.completions.create(\n",
    "      model=\"gpt-4o-mini\",\n",
    "      messages=[\n",
    "        {\"role\": \"user\", \"content\": \"What is the sentiment of the input? negative, neutral, positive, very negative, very positive?\\nThe response should follow the format: Sentiment:{negative, neutral, positive, very negative, very positive}\\nReason:{reason}\" + f\"\\nInput: {input_}\" + \"\\nLet's think step by step.\"}\n",
    "      ] \n",
    "    )\n",
    "    return completion.choices[0].message.content\n",
    "\n",
    "def few_shot_cot_gpt_4_o(examples, input_):\n",
    "    completion = client.chat.completions.create(\n",
    "      model=\"gpt-4o-mini\",\n",
    "      messages=[\n",
    "        {\"role\": \"user\", \"content\": \"What is the sentiment of the input? negative, neutral, positive, very negative, very positive?\" + f\"\\n{examples}\" +\"\\nThe response should follow the format: Sentiment:{negative, neutral, positive, very negative, very positive}\\nReason:{reason}\\nHere is the test data\" + f\"\\nInput: {input_}\" + \"\\nLet's think step by step.\"}\n",
    "      ] \n",
    "    )\n",
    "    return completion.choices[0].message.content"
   ]
  },
  {
   "cell_type": "code",
   "execution_count": 9,
   "id": "48458cdc-5871-47bc-9507-0bbb911ea76d",
   "metadata": {},
   "outputs": [],
   "source": [
    "from collections import Counter\n",
    "\n",
    "def iterative_demonstration_selection(test_sample, train_samples, k=4, q=2):\n",
    "\n",
    "    train_embeddings = np.stack(train_samples['embedding'].to_numpy())\n",
    "    all_answers = []\n",
    "    reasoning_path = zero_shot_cot_gpt_4_o(test_sample)\n",
    "\n",
    "    for _ in range(q):\n",
    "        query_embedding = encode_text(reasoning_path)\n",
    "        selected_indices = select_top_k(query_embedding, train_embeddings, k)\n",
    "        demonstrations = [train_samples.iloc[i] for i in selected_indices]\n",
    "\n",
    "        examples_prompt = \"\\n\".join(\n",
    "            [f\"Input: {row['text']}\\nTopic: {row['sentiment']}\" for row in demonstrations]\n",
    "        )\n",
    "\n",
    "        result = few_shot_cot_gpt_4_o(examples_prompt, test_sample)\n",
    "\n",
    "        try:\n",
    "            sentiment_line = next(line for line in result.split('\\n') if line.lower().startswith(\"sentiment\"))\n",
    "            reason_line = next(line for line in result.split('\\n') if line.lower().startswith(\"reason\"))\n",
    "        except StopIteration:\n",
    "            sentiment_line = \"Sentiment: unknown\"\n",
    "            reason_line = \"Reason: unknown\"\n",
    "\n",
    "        reasoning_path = reason_line\n",
    "        answer = sentiment_line.split(\":\", 1)[-1].strip().lower()\n",
    "        all_answers.append(answer)\n",
    "\n",
    "    final_answer = Counter(all_answers).most_common(1)[0][0]\n",
    "    return final_answer"
   ]
  },
  {
   "cell_type": "code",
   "execution_count": 10,
   "id": "19bd9761-5750-4234-920f-7a22935d621d",
   "metadata": {},
   "outputs": [],
   "source": [
    "def run_ids_on_test_set(df_test, df_train, k=4, q=3):\n",
    "    predictions = []\n",
    "    reasoning_paths = []\n",
    "\n",
    "    for i, row in tqdm(df_test.iterrows(), total=len(df_test), desc=\"Running IDS on test set\"):\n",
    "        test_text = row['text']\n",
    "        true_label = row['sentiment']\n",
    "        \n",
    "        # Run IDS\n",
    "        try:\n",
    "            final_answer = iterative_demonstration_selection(test_text, df_train, k=k, q=q)\n",
    "        except Exception as e:\n",
    "            final_answer = \"error\"\n",
    "            print(f\"Error on test sample {i}: {e}\")\n",
    "\n",
    "        predictions.append(final_answer)\n",
    "        reasoning_paths.append(test_text)\n",
    "\n",
    "    df_test_result = df_test.copy()\n",
    "    df_test_result['prediction'] = predictions\n",
    "    df_test_result['input'] = reasoning_paths\n",
    "\n",
    "    return df_test_result"
   ]
  },
  {
   "cell_type": "code",
   "execution_count": 11,
   "id": "238bf761-119f-4116-8bd1-0adb5dcc3eb1",
   "metadata": {},
   "outputs": [],
   "source": [
    "# import torch\n",
    "# torch.cuda.empty_cache()"
   ]
  },
  {
   "cell_type": "code",
   "execution_count": 12,
   "id": "8aa37de6-6fb2-4710-8a95-171d822536b7",
   "metadata": {},
   "outputs": [
    {
     "name": "stderr",
     "output_type": "stream",
     "text": [
      "Running IDS on test set: 100%|██████████| 1000/1000 [2:19:22<00:00,  8.36s/it] \n"
     ]
    }
   ],
   "source": [
    "df_test_result = run_ids_on_test_set(df_test_1000, df_train_5000_with_embeddings, k=4, q=3)"
   ]
  },
  {
   "cell_type": "code",
   "execution_count": 13,
   "id": "bf01d4c6-b6f8-42be-87b2-bc839aee40d6",
   "metadata": {},
   "outputs": [
    {
     "data": {
      "text/html": [
       "<div>\n",
       "<style scoped>\n",
       "    .dataframe tbody tr th:only-of-type {\n",
       "        vertical-align: middle;\n",
       "    }\n",
       "\n",
       "    .dataframe tbody tr th {\n",
       "        vertical-align: top;\n",
       "    }\n",
       "\n",
       "    .dataframe thead th {\n",
       "        text-align: right;\n",
       "    }\n",
       "</style>\n",
       "<table border=\"1\" class=\"dataframe\">\n",
       "  <thead>\n",
       "    <tr style=\"text-align: right;\">\n",
       "      <th></th>\n",
       "      <th>text</th>\n",
       "      <th>sentiment</th>\n",
       "      <th>prediction</th>\n",
       "      <th>input</th>\n",
       "    </tr>\n",
       "  </thead>\n",
       "  <tbody>\n",
       "    <tr>\n",
       "      <th>0</th>\n",
       "      <td>a 93-minute condensation of a 26-episode tv se...</td>\n",
       "      <td>negative</td>\n",
       "      <td>neutral</td>\n",
       "      <td>a 93-minute condensation of a 26-episode tv se...</td>\n",
       "    </tr>\n",
       "    <tr>\n",
       "      <th>1</th>\n",
       "      <td>the premise is overshadowed by the uberviolenc...</td>\n",
       "      <td>negative</td>\n",
       "      <td>very negative</td>\n",
       "      <td>the premise is overshadowed by the uberviolenc...</td>\n",
       "    </tr>\n",
       "    <tr>\n",
       "      <th>2</th>\n",
       "      <td>this is a startling film that gives you a fasc...</td>\n",
       "      <td>positive</td>\n",
       "      <td>neutral</td>\n",
       "      <td>this is a startling film that gives you a fasc...</td>\n",
       "    </tr>\n",
       "    <tr>\n",
       "      <th>3</th>\n",
       "      <td>but you 'll definitely want the t-shirt .</td>\n",
       "      <td>neutral</td>\n",
       "      <td>positive</td>\n",
       "      <td>but you 'll definitely want the t-shirt .</td>\n",
       "    </tr>\n",
       "    <tr>\n",
       "      <th>4</th>\n",
       "      <td>i tried to read the time on my watch .</td>\n",
       "      <td>negative</td>\n",
       "      <td>neutral</td>\n",
       "      <td>i tried to read the time on my watch .</td>\n",
       "    </tr>\n",
       "    <tr>\n",
       "      <th>...</th>\n",
       "      <td>...</td>\n",
       "      <td>...</td>\n",
       "      <td>...</td>\n",
       "      <td>...</td>\n",
       "    </tr>\n",
       "    <tr>\n",
       "      <th>995</th>\n",
       "      <td>focuses on joan 's raging hormones and sledgeh...</td>\n",
       "      <td>very negative</td>\n",
       "      <td>very negative</td>\n",
       "      <td>focuses on joan 's raging hormones and sledgeh...</td>\n",
       "    </tr>\n",
       "    <tr>\n",
       "      <th>996</th>\n",
       "      <td>polished korean political-action film is just ...</td>\n",
       "      <td>neutral</td>\n",
       "      <td>neutral</td>\n",
       "      <td>polished korean political-action film is just ...</td>\n",
       "    </tr>\n",
       "    <tr>\n",
       "      <th>997</th>\n",
       "      <td>-lrb- fessenden -rrb- is much more into ambigu...</td>\n",
       "      <td>positive</td>\n",
       "      <td>negative</td>\n",
       "      <td>-lrb- fessenden -rrb- is much more into ambigu...</td>\n",
       "    </tr>\n",
       "    <tr>\n",
       "      <th>998</th>\n",
       "      <td>lovingly choreographed bloodshed taking place ...</td>\n",
       "      <td>positive</td>\n",
       "      <td>negative</td>\n",
       "      <td>lovingly choreographed bloodshed taking place ...</td>\n",
       "    </tr>\n",
       "    <tr>\n",
       "      <th>999</th>\n",
       "      <td>hawke draws out the best from his large cast i...</td>\n",
       "      <td>very positive</td>\n",
       "      <td>very positive</td>\n",
       "      <td>hawke draws out the best from his large cast i...</td>\n",
       "    </tr>\n",
       "  </tbody>\n",
       "</table>\n",
       "<p>1000 rows × 4 columns</p>\n",
       "</div>"
      ],
      "text/plain": [
       "                                                  text      sentiment  \\\n",
       "0    a 93-minute condensation of a 26-episode tv se...       negative   \n",
       "1    the premise is overshadowed by the uberviolenc...       negative   \n",
       "2    this is a startling film that gives you a fasc...       positive   \n",
       "3            but you 'll definitely want the t-shirt .        neutral   \n",
       "4               i tried to read the time on my watch .       negative   \n",
       "..                                                 ...            ...   \n",
       "995  focuses on joan 's raging hormones and sledgeh...  very negative   \n",
       "996  polished korean political-action film is just ...        neutral   \n",
       "997  -lrb- fessenden -rrb- is much more into ambigu...       positive   \n",
       "998  lovingly choreographed bloodshed taking place ...       positive   \n",
       "999  hawke draws out the best from his large cast i...  very positive   \n",
       "\n",
       "        prediction                                              input  \n",
       "0          neutral  a 93-minute condensation of a 26-episode tv se...  \n",
       "1    very negative  the premise is overshadowed by the uberviolenc...  \n",
       "2          neutral  this is a startling film that gives you a fasc...  \n",
       "3         positive          but you 'll definitely want the t-shirt .  \n",
       "4          neutral             i tried to read the time on my watch .  \n",
       "..             ...                                                ...  \n",
       "995  very negative  focuses on joan 's raging hormones and sledgeh...  \n",
       "996        neutral  polished korean political-action film is just ...  \n",
       "997       negative  -lrb- fessenden -rrb- is much more into ambigu...  \n",
       "998       negative  lovingly choreographed bloodshed taking place ...  \n",
       "999  very positive  hawke draws out the best from his large cast i...  \n",
       "\n",
       "[1000 rows x 4 columns]"
      ]
     },
     "execution_count": 13,
     "metadata": {},
     "output_type": "execute_result"
    }
   ],
   "source": [
    "df_test_result"
   ]
  },
  {
   "cell_type": "code",
   "execution_count": 14,
   "id": "cea663d0-d781-4d42-8f2e-d83a0e17191c",
   "metadata": {},
   "outputs": [
    {
     "name": "stdout",
     "output_type": "stream",
     "text": [
      "Accuracy: 52.60%\n"
     ]
    }
   ],
   "source": [
    "from sklearn.metrics import accuracy_score\n",
    "\n",
    "accuracy = accuracy_score(df_test_result['sentiment'], df_test_result['prediction'])\n",
    "print(f\"Accuracy: {accuracy * 100:.2f}%\")"
   ]
  },
  {
   "cell_type": "code",
   "execution_count": 15,
   "id": "4103c498-c02f-492f-8a4d-959f6b343525",
   "metadata": {},
   "outputs": [],
   "source": [
    "df_test_result[['input','sentiment','prediction']].to_csv(\"SST5_ids_results_gpt4o.csv\", index=False)"
   ]
  }
 ],
 "metadata": {
  "kernelspec": {
   "display_name": "Python 3 (ipykernel)",
   "language": "python",
   "name": "python3"
  },
  "language_info": {
   "codemirror_mode": {
    "name": "ipython",
    "version": 3
   },
   "file_extension": ".py",
   "mimetype": "text/x-python",
   "name": "python",
   "nbconvert_exporter": "python",
   "pygments_lexer": "ipython3",
   "version": "3.10.8"
  }
 },
 "nbformat": 4,
 "nbformat_minor": 5
}
